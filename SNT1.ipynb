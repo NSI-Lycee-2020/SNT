{
  "nbformat": 4,
  "nbformat_minor": 0,
  "metadata": {
    "colab": {
      "name": "SNT1.ipynb",
      "provenance": [],
      "collapsed_sections": []
    },
    "kernelspec": {
      "name": "python3",
      "display_name": "Python 3"
    }
  },
  "cells": [
    {
      "cell_type": "code",
      "metadata": {
        "id": "bZW15XNTvCFl",
        "outputId": "674562ef-e928-42f8-cec2-1686178dff05",
        "colab": {
          "base_uri": "https://localhost:8080/",
          "height": 136
        }
      },
      "source": [
        "##Préambule\n",
        "En 1989, le hollandais Guido van Rossum commence le développement du langage de programmation Python.\n",
        "Python est un langage multiplateforme, c'est-à-dire disponible sur plusieurs architectures (compatible PC, tablettes, smartphones, ordinateur low cost Raspberry Pi...) et systèmes d'exploitation (Windows, Linux, Mac, Android...).\n",
        "Le langage Python est gratuit, sous licence libre.\n",
        "C'est un des langages informatiques les plus populaires avec C, C++, C#, Objective-C, Java, PHP, JavaScript, Delphi, Visual Basic, Ruby et Perl (liste non exhaustive).\n",
        "Actuellement, Python en est à sa version 3.\n",
        "\n",
        "Cependant, la version 2 est encore utilisée.\n",
        "Attention : Python 2 n'est pas compatible avec Python 3 !\n",
        "Que peut-on faire avec Python ?\n",
        "Beaucoup de choses !\n",
        "•\tdu calcul scientifique (librairie NumPy);\n",
        "•\tde l'intelligence artificielle (tensorflow);\n",
        "•\tdes graphiques (librairie matplotlib)\n",
        "•\tdu traitement du son, de la synthèse vocale (librairie eSpeak)\n",
        "•\tdu traitement d'image (librairie PIL), de la vision artificielle par caméra (framework SimpleCV)\n",
        "•\tde la bio-informatique (librairie Biopython)\n",
        "•\tdes applications avec interface graphique GUI (librairies Tkinter, PyQt, wxPython, PyGTK...)\n",
        "•\tdes jeux vidéo en 2D (librairie Pygame)\n",
        "•\tdes applications multi-touch (framework kivy pour tablette et smartphone à écran tactile)\n",
        "•\tdes applications Web (serveur Web Zope ; frameworks Web Flask, Django)\n",
        "•\tinterfacer des systèmes de gestion de base de données (librairie MySQLdb...)\n",
        "•\tdes applications réseau (framework Twisted)\n",
        "•\tcommuniquer avec des ports série RS232 (librairie PySerial), en Bluetooth (librairie pybluez)...\n",
        "•\t...\n",
        "Ils existent des dizaines de milliers de librairies qui sont disponibles sur le site officiel PyPI pour nous aider à réaliser des milliards de choses.\n",
        "Mon premier programme en Python\n",
        "Lorsque l'on apprend un nouveau langage de programmation, il est coutumier d'écrire son premier programme pour afficher Hello world.\n",
        "L'instruction en python qui affiche hello word est :\n"
      ],
      "execution_count": 6,
      "outputs": [
        {
          "output_type": "error",
          "ename": "SyntaxError",
          "evalue": "ignored",
          "traceback": [
            "\u001b[0;36m  File \u001b[0;32m\"<ipython-input-6-eb72841c632d>\"\u001b[0;36m, line \u001b[0;32m2\u001b[0m\n\u001b[0;31m    En 1989, le hollandais Guido van Rossum commence le développement du langage de programmation Python.\u001b[0m\n\u001b[0m          ^\u001b[0m\n\u001b[0;31mSyntaxError\u001b[0m\u001b[0;31m:\u001b[0m invalid syntax\n"
          ]
        }
      ]
    },
    {
      "cell_type": "markdown",
      "metadata": {
        "id": "Dq-jXm82NVa3"
      },
      "source": [
        "##**Préambule**\n",
        "En 1989, le hollandais Guido van Rossum commence le développement du langage de programmation Python.\n",
        "Python est un langage multiplateforme, c'est-à-dire disponible sur plusieurs architectures (compatible PC, tablettes, smartphones, ordinateur low cost Raspberry Pi...) et systèmes d'exploitation (Windows, Linux, Mac, Android...).\n",
        "Le langage Python est gratuit, sous licence libre.\n",
        "C'est un des langages informatiques les plus populaires avec C, C++, C#, Objective-C, Java, PHP, JavaScript, Delphi, Visual Basic, Ruby et Perl (liste non exhaustive).\n",
        "Actuellement, Python en est à sa version 3.\n",
        "\n",
        "Cependant, la version 2 est encore utilisée.\n",
        "Attention : Python 2 n'est pas compatible avec Python 3 !\n",
        "Que peut-on faire avec Python ?\n",
        "Beaucoup de choses !\n",
        "*   du calcul scientifique (librairie NumPy);\n",
        "* \tde l'intelligence artificielle (tensorflow);\n",
        "*   des graphiques (librairie matplotlib)\n",
        "*   du traitement du son, de la synthèse vocale (librairie eSpeak)\n",
        "*   du traitement d'image (librairie PIL), de la vision artificielle par caméra (framework SimpleCV)\n",
        "*   de la bio-informatique (librairie Biopython)\n",
        "*   des applications avec interface graphique GUI (librairies Tkinter, PyQt, wxPython, PyGTK...)\n",
        "*   des jeux vidéo en 2D (librairie Pygame)\n",
        "*   des applications multi-touch (framework kivy pour tablette et smartphone à écran tactile)\n",
        "*   des applications Web (serveur Web Zope ; frameworks Web Flask, Django)\n",
        "* \tinterfacer des systèmes de gestion de base de données (librairie MySQLdb...)\n",
        "*\tdes applications réseau (framework Twisted)\n",
        "* \tcommuniquer avec des ports série RS232 (librairie PySerial), en Bluetooth (librairie pybluez)...\n",
        "*  \t...\n",
        "\n",
        "Ils existent des dizaines de milliers de librairies qui sont disponibles sur le site officiel PyPI pour nous aider à réaliser des milliards de choses.\n",
        "Mon premier programme en Python\n",
        "Lorsque l'on apprend un nouveau langage de programmation, il est coutumier d'écrire son premier programme pour afficher Hello world.\n",
        "L'instruction en python qui affiche hello word est :"
      ]
    },
    {
      "cell_type": "code",
      "metadata": {
        "id": "tp6lI-wuQXZY",
        "outputId": "79c7c279-9bd8-4a01-cb17-ab5453d8d972",
        "colab": {
          "base_uri": "https://localhost:8080/",
          "height": 35
        }
      },
      "source": [
        "print(\"Hello world\")"
      ],
      "execution_count": 7,
      "outputs": [
        {
          "output_type": "stream",
          "text": [
            "Hello world\n"
          ],
          "name": "stdout"
        }
      ]
    },
    {
      "cell_type": "markdown",
      "metadata": {
        "id": "eTjxcADfQO_6"
      },
      "source": [
        "#Exercice\n",
        "Modifier le programme pour qu'il affiche la traduction en français de \"Hello world\".\n"
      ]
    },
    {
      "cell_type": "code",
      "metadata": {
        "id": "OhdodXIpvepT"
      },
      "source": [
        ""
      ],
      "execution_count": 7,
      "outputs": []
    },
    {
      "cell_type": "markdown",
      "metadata": {
        "id": "NTBVyxC8RyXS"
      },
      "source": [
        "Python est un langage de programmation, où l'indentation horizontale du texte est importante. Vous apprendrez tout à ce sujet dans les activités suivantes. Mais pour l'instant il faut garder à l'esprit que placer des espaces ou des tabulations avant toute ligne de code Python peut provoquer une erreur inattendue. \n",
        "Tester le code ci-dessous.\n",
        "Vous pouvez vérifier comment python va réagir !\n",
        "\n",
        "*Corriger le bug dans le programme.*\n"
      ]
    },
    {
      "cell_type": "code",
      "metadata": {
        "id": "cJHihhlJSE6S",
        "outputId": "8b37ce03-ecb5-496d-950d-a495136ffa68",
        "colab": {
          "base_uri": "https://localhost:8080/",
          "height": 136
        }
      },
      "source": [
        "print(\"Hello world\")\n",
        " print(\"Bonjour le monde\")"
      ],
      "execution_count": 8,
      "outputs": [
        {
          "output_type": "error",
          "ename": "IndentationError",
          "evalue": "ignored",
          "traceback": [
            "\u001b[0;36m  File \u001b[0;32m\"<ipython-input-8-a640305114b5>\"\u001b[0;36m, line \u001b[0;32m2\u001b[0m\n\u001b[0;31m    print(\"Bonjour le monde\")\u001b[0m\n\u001b[0m    ^\u001b[0m\n\u001b[0;31mIndentationError\u001b[0m\u001b[0;31m:\u001b[0m unexpected indent\n"
          ]
        }
      ]
    },
    {
      "cell_type": "markdown",
      "metadata": {
        "id": "2JWUy3i6hiC5"
      },
      "source": [
        "<button class='fa fa-graduation-cap icon-graduation-cap btn btn-xs btn-default''></button>\n",
        "**essai**"
      ]
    }
  ]
}